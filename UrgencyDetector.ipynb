{
  "cells": [
    {
      "cell_type": "markdown",
      "metadata": {
        "id": "view-in-github",
        "colab_type": "text"
      },
      "source": [
        "<a href=\"https://colab.research.google.com/github/abhinavjha98/UrgencyDetector/blob/master/UrgencyDetector.ipynb\" target=\"_parent\"><img src=\"https://colab.research.google.com/assets/colab-badge.svg\" alt=\"Open In Colab\"/></a>"
      ]
    },
    {
      "cell_type": "code",
      "execution_count": null,
      "metadata": {
        "id": "N_t8yrTy-zIp",
        "colab": {
          "base_uri": "https://localhost:8080/"
        },
        "outputId": "25e2bdac-0bb4-40e0-c0d8-c6c40f362693"
      },
      "outputs": [
        {
          "output_type": "stream",
          "name": "stderr",
          "text": [
            "[nltk_data] Downloading package stopwords to /root/nltk_data...\n",
            "[nltk_data]   Unzipping corpora/stopwords.zip.\n"
          ]
        }
      ],
      "source": [
        "from nltk.tokenize import RegexpTokenizer, word_tokenize\n",
        "from nltk.stem import PorterStemmer\n",
        "from nltk.corpus import stopwords\n",
        "import numpy as np\n",
        "import pandas as pd\n",
        "from sklearn.preprocessing import LabelEncoder\n",
        "from sklearn.feature_extraction.text import CountVectorizer\n",
        "from sklearn.model_selection import train_test_split\n",
        "import nltk\n",
        "from sklearn.naive_bayes import MultinomialNB\n",
        "nltk.download('stopwords')\n",
        "import pickle"
      ]
    },
    {
      "cell_type": "code",
      "execution_count": null,
      "metadata": {
        "id": "X4STeA3g_WMD",
        "colab": {
          "base_uri": "https://localhost:8080/"
        },
        "outputId": "fca4f6a7-1d9e-4598-a1a1-947647969abc"
      },
      "outputs": [
        {
          "output_type": "stream",
          "name": "stdout",
          "text": [
            "    index                                               text\n",
            "0  Urgent  IMPORTANT: Your account has been compromised! ...\n",
            "1  Urgent  URGENT: Suspicious activity detected on your a...\n",
            "2  Urgent  ACTION REQUIRED: Confirm your email address wi...\n",
            "3  Urgent  ALERT: Your online banking account has been lo...\n",
            "4  Urgent  CRITICAL: Unusual login attempt detected. Conf...\n"
          ]
        }
      ],
      "source": [
        "df = pd.read_csv('/content/drive/MyDrive/InTechhub Solutions/Spam Detection/urgency.csv', encoding='ISO-8859-1')\n",
        "le = LabelEncoder()\n",
        "print(df.head())"
      ]
    },
    {
      "cell_type": "code",
      "execution_count": null,
      "metadata": {
        "id": "obsuUy9B_WlY"
      },
      "outputs": [],
      "source": [
        "data = df.to_numpy()"
      ]
    },
    {
      "cell_type": "code",
      "execution_count": null,
      "metadata": {
        "id": "D5UMcBwJ_ZJL",
        "colab": {
          "base_uri": "https://localhost:8080/"
        },
        "outputId": "16341a8a-3ee7-46ad-a37e-88cdb024d1b0"
      },
      "outputs": [
        {
          "output_type": "stream",
          "name": "stdout",
          "text": [
            "['Urgent' 'Urgent' 'Urgent' 'Urgent' 'Urgent' 'Urgent' 'Urgent' 'Urgent'\n",
            " 'Urgent' 'Urgent' 'Urgent' 'Urgent' 'Urgent' 'Urgent' 'Urgent' 'Urgent'\n",
            " 'Urgent' 'Urgent' 'Urgent' 'Urgent' 'Urgent' 'Urgent' 'Urgent' 'Urgent'\n",
            " 'Urgent' 'Urgent' 'Urgent' 'Urgent' 'Urgent' 'Urgent' 'Urgent' 'Urgent'\n",
            " 'Urgent' 'Urgent' 'Urgent' 'Not Urgent' 'Not Urgent' 'Not Urgent'\n",
            " 'Not Urgent' 'Not Urgent' 'Not Urgent' 'Not Urgent' 'Not Urgent'\n",
            " 'Not Urgent' 'Not Urgent' 'Not Urgent' 'Not Urgent' 'Not Urgent'\n",
            " 'Not Urgent' 'Not Urgent' 'Not Urgent' 'Not Urgent' 'Not Urgent'\n",
            " 'Not Urgent' 'Not Urgent' 'Not Urgent' 'Not Urgent' 'Not Urgent'\n",
            " 'Not Urgent' 'Not Urgent' 'Not Urgent' 'Not Urgent' 'Not Urgent'\n",
            " 'Not Urgent' 'Not Urgent' 'Not Urgent' 'Not Urgent' 'Not Urgent'\n",
            " 'Not Urgent' 'Not Urgent']\n"
          ]
        }
      ],
      "source": [
        "X = data[:, 1]\n",
        "y = data[:, 0]\n",
        "print(y)"
      ]
    },
    {
      "cell_type": "code",
      "execution_count": null,
      "metadata": {
        "id": "V-AtgW3A_bIV",
        "colab": {
          "base_uri": "https://localhost:8080/"
        },
        "outputId": "c80be51b-724d-483f-d7e1-09af71582875"
      },
      "outputs": [
        {
          "output_type": "execute_result",
          "data": {
            "text/plain": [
              "((70,), (70,))"
            ]
          },
          "metadata": {},
          "execution_count": 5
        }
      ],
      "source": [
        "X.shape,y.shape"
      ]
    },
    {
      "cell_type": "code",
      "execution_count": null,
      "metadata": {
        "id": "AEN0GEQi_cxJ"
      },
      "outputs": [],
      "source": [
        "tokenizer = RegexpTokenizer('\\w+')\n",
        "sw = set(stopwords.words('english'))\n",
        "ps = PorterStemmer()"
      ]
    },
    {
      "cell_type": "code",
      "execution_count": null,
      "metadata": {
        "id": "J0jHdEA__eo8"
      },
      "outputs": [],
      "source": [
        "def getStem(review):\n",
        "    review = review.lower()\n",
        "    tokens = tokenizer.tokenize(review) # breaking into small words\n",
        "    removed_stopwords = [w for w in tokens if w not in sw]\n",
        "    stemmed_words = [ps.stem(token) for token in removed_stopwords]\n",
        "    clean_review = ' '.join(stemmed_words)\n",
        "    return clean_review"
      ]
    },
    {
      "cell_type": "code",
      "execution_count": null,
      "metadata": {
        "id": "221Ho7gx_qF3"
      },
      "outputs": [],
      "source": [
        "def getDoc(document):\n",
        "    d = []\n",
        "    for doc in document:\n",
        "        d.append(getStem(doc))\n",
        "    return d"
      ]
    },
    {
      "cell_type": "code",
      "execution_count": null,
      "metadata": {
        "id": "eC566nbM_rqN"
      },
      "outputs": [],
      "source": [
        "stemmed_doc = getDoc(X)"
      ]
    },
    {
      "cell_type": "code",
      "execution_count": null,
      "metadata": {
        "id": "B0uhGLc-_tFw",
        "colab": {
          "base_uri": "https://localhost:8080/"
        },
        "outputId": "f8b51f31-4dff-400b-ff37-b6f04a92e7f6"
      },
      "outputs": [
        {
          "output_type": "execute_result",
          "data": {
            "text/plain": [
              "['import account compromis reset password immedi',\n",
              " 'urgent suspici activ detect account log verifi inform',\n",
              " 'action requir confirm email address within 24 hour avoid account suspens',\n",
              " 'alert onlin bank account lock pleas verifi ident regain access',\n",
              " 'critic unusu login attempt detect confirm detail immedi secur account',\n",
              " 'immedi action requir account temporarili lock due suspici activ',\n",
              " 'warn detect possibl secur breach account verifi detail',\n",
              " 'urgent confirm ident within 1 hour prevent account termin',\n",
              " 'import notic unusu login attempt unknown devic secur account immedi',\n",
              " 'critic payment fail updat bill inform avoid servic interrupt',\n",
              " 'alert email account deactiv unless confirm inform within 48 hour',\n",
              " 'password reset request receiv initi click secur account',\n",
              " 'urgent credit card inform outdat updat avoid payment issu',\n",
              " 'action need subscript cancel unless updat payment method',\n",
              " 'secur notic account risk follow step protect inform',\n",
              " 'immedi action recent transact flag confirm avoid account suspens',\n",
              " 'import detect secur vulner devic updat softwar immedi',\n",
              " 'urgent notic receiv time sensit offer claim within next 30 minut',\n",
              " 'alert detect unauthor transact account verifi detail cancel',\n",
              " 'secur warn password expir creat new one maintain account access',\n",
              " 'urgent messag account reach storag limit upgrad avoid data loss',\n",
              " 'suspici login attempt detect confirm account detail secur inform',\n",
              " 'critic alert account overdu make payment avoid servic termin',\n",
              " 'action requir confirm email address activ new account',\n",
              " 'urgent updat account flag possibl fraud secur account',\n",
              " 'import email storag almost full upgrad risk lose data',\n",
              " 'urgent secur updat new threat detect protect account',\n",
              " 'warn account flag inact log prevent delet',\n",
              " 'notic payment inform incomplet updat immedi avoid account suspens',\n",
              " 'alert devic may infect malwar scan clean',\n",
              " 'immedi action need email list expos account chang password',\n",
              " 'urgent subscript expir renew continu uninterrupt servic',\n",
              " 'suspici login locat detect verifi account detail protect inform',\n",
              " 'critic two factor authent disabl enabl secur account',\n",
              " 'action requir password meet secur standard updat',\n",
              " 'discov new featur latest updat',\n",
              " 'thank choos servic satisfact top prioriti',\n",
              " 'get 20 next purchas use promo code save20',\n",
              " 'invit friend join platform earn reward',\n",
              " 'stay inform weekli newslett subscrib']"
            ]
          },
          "metadata": {},
          "execution_count": 10
        }
      ],
      "source": [
        "stemmed_doc[:40]"
      ]
    },
    {
      "cell_type": "code",
      "execution_count": null,
      "metadata": {
        "id": "QNqDhAdH_vNM"
      },
      "outputs": [],
      "source": [
        "cv = CountVectorizer()"
      ]
    },
    {
      "cell_type": "code",
      "execution_count": null,
      "metadata": {
        "id": "wYoKFD6c_zQf"
      },
      "outputs": [],
      "source": [
        "vc = cv.fit_transform(stemmed_doc)"
      ]
    },
    {
      "cell_type": "code",
      "execution_count": null,
      "metadata": {
        "id": "URW_cE3x_1V2"
      },
      "outputs": [],
      "source": [
        "X = vc.todense()"
      ]
    },
    {
      "cell_type": "code",
      "execution_count": null,
      "metadata": {
        "id": "e3mahysT_2zo",
        "colab": {
          "base_uri": "https://localhost:8080/"
        },
        "outputId": "102c737c-62a0-4b4a-9fd8-3045dc222237"
      },
      "outputs": [
        {
          "output_type": "stream",
          "name": "stdout",
          "text": [
            "['Urgent' 'Urgent' 'Not Urgent' 'Urgent' 'Not Urgent' 'Urgent' 'Urgent'\n",
            " 'Urgent' 'Not Urgent' 'Urgent' 'Urgent' 'Urgent' 'Not Urgent' 'Urgent'\n",
            " 'Not Urgent' 'Urgent' 'Not Urgent' 'Not Urgent' 'Not Urgent' 'Not Urgent'\n",
            " 'Urgent' 'Urgent' 'Not Urgent' 'Urgent']\n"
          ]
        }
      ],
      "source": [
        "X_train, X_test, y_train, y_test = train_test_split(X, y, test_size=0.33, random_state=42)\n",
        "print(y_test)"
      ]
    },
    {
      "cell_type": "code",
      "execution_count": null,
      "metadata": {
        "id": "yLvkCCdb_4l2",
        "colab": {
          "base_uri": "https://localhost:8080/"
        },
        "outputId": "04d452cc-28de-4d28-8938-e3ffceb494e1"
      },
      "outputs": [
        {
          "output_type": "execute_result",
          "data": {
            "text/plain": [
              "95.83333333333334"
            ]
          },
          "metadata": {},
          "execution_count": 15
        }
      ],
      "source": [
        "model = MultinomialNB()\n",
        "model.fit(np.asarray(X_train), np.asarray(y_train))\n",
        "(model.score(np.asarray(X_test), np.asarray(y_test)))*100"
      ]
    },
    {
      "cell_type": "code",
      "execution_count": null,
      "metadata": {
        "id": "Z6bivNRXB-Mc",
        "colab": {
          "base_uri": "https://localhost:8080/"
        },
        "outputId": "989fa79a-01f3-40ac-d2ae-ab51d1794aae"
      },
      "outputs": [
        {
          "output_type": "execute_result",
          "data": {
            "text/plain": [
              "array(['Urgent'], dtype='<U10')"
            ]
          },
          "metadata": {},
          "execution_count": 20
        }
      ],
      "source": [
        "\n",
        "messages = [\n",
        "            \"\"\"Thank you so much for the documentation. I will review it urgent\"\"\"\n",
        "]\n",
        "def prepare(messages):\n",
        "    d = getDoc(messages)\n",
        "    return cv.transform(d)\n",
        "\n",
        "messages = prepare(messages)\n",
        "y_pred = model.predict(messages)\n",
        "y_pred"
      ]
    },
    {
      "cell_type": "code",
      "execution_count": null,
      "metadata": {
        "id": "xxTf4YB3C92u",
        "colab": {
          "base_uri": "https://localhost:8080/"
        },
        "outputId": "083fba8f-9890-41ed-acff-f66dbc53bde2"
      },
      "outputs": [
        {
          "output_type": "execute_result",
          "data": {
            "text/plain": [
              "array(['Urgent'], dtype='<U10')"
            ]
          },
          "metadata": {},
          "execution_count": 19
        }
      ],
      "source": [
        "messages = [\n",
        "            \"\"\"Your account has been compromised - Immediate action required\"\"\"\n",
        "]\n",
        "def prepare(messages):\n",
        "    d = getDoc(messages)\n",
        "    return cv.transform(d)\n",
        "\n",
        "messages = prepare(messages)\n",
        "y_pred = model.predict(messages)\n",
        "y_pred"
      ]
    },
    {
      "cell_type": "code",
      "execution_count": null,
      "metadata": {
        "id": "3cVzi2pdDaXP",
        "colab": {
          "base_uri": "https://localhost:8080/"
        },
        "outputId": "4bd565fb-860f-4f1e-fa30-0373e4648e0c"
      },
      "outputs": [
        {
          "output_type": "execute_result",
          "data": {
            "text/plain": [
              "array(['Urgent'], dtype='<U10')"
            ]
          },
          "metadata": {},
          "execution_count": 18
        }
      ],
      "source": [
        "messages = [\n",
        "            \"\"\"Abhinav,\n",
        "\n",
        "Thank you so much for the documentation. I will review it and let you know if we need anything more or not. It looks good. Thanks again. \n",
        "\n",
        "Selva & Ram - I can’t meet today at 9:30 AM for the AI meeting, something else came up so let’s meet tomorrow or May be Saturday. I will confirm it later.\n",
        "\n",
        "- Chakra\n",
        "\n",
        "\"\"\"\n",
        "]\n",
        "def prepare(messages):\n",
        "    d = getDoc(messages)\n",
        "    return cv.transform(d)\n",
        "\n",
        "messages = prepare(messages)\n",
        "y_pred = model.predict(messages)\n",
        "y_pred"
      ]
    },
    {
      "cell_type": "code",
      "execution_count": null,
      "metadata": {
        "id": "0lEAbktvDrvk",
        "colab": {
          "base_uri": "https://localhost:8080/"
        },
        "outputId": "ee0a0cc4-3c39-46a6-af24-07acd66d61b9"
      },
      "outputs": [
        {
          "output_type": "execute_result",
          "data": {
            "text/plain": [
              "array(['spam'], dtype='<U4')"
            ]
          },
          "metadata": {},
          "execution_count": 19
        }
      ],
      "source": [
        "messages = [\n",
        "            \"\"\"Congratulations ur awarded 500 of CD vouchers or 125gift guaranteed & Free entry 2 \n",
        "            100 wkly draw txt MUSIC to 87066 TnCs www.Ldew.com1win150ppmx3age16\n",
        "\"\"\"\n",
        "]\n",
        "def prepare(messages):\n",
        "    d = getDoc(messages)\n",
        "    return cv.transform(d)\n",
        "\n",
        "messages = prepare(messages)\n",
        "y_pred = model.predict(messages)\n",
        "y_pred"
      ]
    },
    {
      "cell_type": "code",
      "execution_count": null,
      "metadata": {
        "id": "_MCY8JAoEUlL",
        "colab": {
          "base_uri": "https://localhost:8080/"
        },
        "outputId": "d75cf154-4237-4579-a993-1719fe5ec3b4"
      },
      "outputs": [
        {
          "output_type": "execute_result",
          "data": {
            "text/plain": [
              "array(['spam'], dtype='<U4')"
            ]
          },
          "metadata": {},
          "execution_count": 20
        }
      ],
      "source": [
        "messages = [\n",
        "            \"\"\"Do you want 750 anytime any network mins 150 text and a \n",
        "            NEW VIDEO phone for only five pounds per week call 08002888812 or reply for delivery tomorrow\n",
        "\"\"\"\n",
        "]\n",
        "def prepare(messages):\n",
        "    d = getDoc(messages)\n",
        "    return cv.transform(d)\n",
        "\n",
        "messages = prepare(messages)\n",
        "y_pred = model.predict(messages)\n",
        "y_pred"
      ]
    },
    {
      "cell_type": "code",
      "execution_count": null,
      "metadata": {
        "id": "4_LFs3REEpPU",
        "colab": {
          "base_uri": "https://localhost:8080/"
        },
        "outputId": "f8a7de88-2a4c-4e7d-ccfc-27a2ae17e2f6"
      },
      "outputs": [
        {
          "output_type": "stream",
          "name": "stdout",
          "text": [
            "  (0, 254)\t1\n"
          ]
        },
        {
          "output_type": "execute_result",
          "data": {
            "text/plain": [
              "array(['Urgent'], dtype='<U10')"
            ]
          },
          "metadata": {},
          "execution_count": 28
        }
      ],
      "source": [
        "\n",
        "messages = [\n",
        "            \"\"\"You are awarded a SiPix Digital Camera! call 09061221061 from landline. \n",
        "            Delivery within 28days. T Cs Box177. M221BP. 2yr warranty. 150ppm. 16 . p på£3.99\n",
        "\"\"\"\n",
        "]\n",
        "def prepare(messages):\n",
        "    d = getDoc(messages)\n",
        "    return cv.transform(d)\n",
        "\n",
        "messages = prepare(messages)\n",
        "print(messages)\n",
        "y_pred = model.predict(messages)\n",
        "y_pred"
      ]
    },
    {
      "cell_type": "code",
      "execution_count": null,
      "metadata": {
        "id": "UHFq4j7xAMRj",
        "colab": {
          "base_uri": "https://localhost:8080/"
        },
        "outputId": "4c154b16-2d83-410c-b6ca-324c7d854bfd"
      },
      "outputs": [
        {
          "output_type": "execute_result",
          "data": {
            "text/plain": [
              "array(['spam'], dtype='<U4')"
            ]
          },
          "metadata": {},
          "execution_count": 22
        }
      ],
      "source": [
        "y_pred = model.predict(messages)\n",
        "y_pred"
      ]
    },
    {
      "cell_type": "code",
      "execution_count": null,
      "metadata": {
        "id": "wYdGLPHYAOuu"
      },
      "outputs": [],
      "source": [
        "Pkl_Filename = \"urgency_detect.pkl\"  \n",
        "\n",
        "with open(Pkl_Filename, 'wb') as file:  \n",
        "    pickle.dump(model, file)"
      ]
    },
    {
      "cell_type": "code",
      "execution_count": null,
      "metadata": {
        "id": "ik8OfNjfAboz"
      },
      "outputs": [],
      "source": [
        "pickle.dump(cv, open(\"vectorizer.pkl\", \"wb\"))"
      ]
    },
    {
      "cell_type": "code",
      "execution_count": null,
      "metadata": {
        "id": "gEVuFpILASuu",
        "colab": {
          "base_uri": "https://localhost:8080/",
          "height": 74
        },
        "outputId": "916ed6a1-0cce-4a3a-dd79-d908bea4bf51"
      },
      "outputs": [
        {
          "output_type": "execute_result",
          "data": {
            "text/plain": [
              "MultinomialNB()"
            ],
            "text/html": [
              "<style>#sk-container-id-2 {color: black;background-color: white;}#sk-container-id-2 pre{padding: 0;}#sk-container-id-2 div.sk-toggleable {background-color: white;}#sk-container-id-2 label.sk-toggleable__label {cursor: pointer;display: block;width: 100%;margin-bottom: 0;padding: 0.3em;box-sizing: border-box;text-align: center;}#sk-container-id-2 label.sk-toggleable__label-arrow:before {content: \"▸\";float: left;margin-right: 0.25em;color: #696969;}#sk-container-id-2 label.sk-toggleable__label-arrow:hover:before {color: black;}#sk-container-id-2 div.sk-estimator:hover label.sk-toggleable__label-arrow:before {color: black;}#sk-container-id-2 div.sk-toggleable__content {max-height: 0;max-width: 0;overflow: hidden;text-align: left;background-color: #f0f8ff;}#sk-container-id-2 div.sk-toggleable__content pre {margin: 0.2em;color: black;border-radius: 0.25em;background-color: #f0f8ff;}#sk-container-id-2 input.sk-toggleable__control:checked~div.sk-toggleable__content {max-height: 200px;max-width: 100%;overflow: auto;}#sk-container-id-2 input.sk-toggleable__control:checked~label.sk-toggleable__label-arrow:before {content: \"▾\";}#sk-container-id-2 div.sk-estimator input.sk-toggleable__control:checked~label.sk-toggleable__label {background-color: #d4ebff;}#sk-container-id-2 div.sk-label input.sk-toggleable__control:checked~label.sk-toggleable__label {background-color: #d4ebff;}#sk-container-id-2 input.sk-hidden--visually {border: 0;clip: rect(1px 1px 1px 1px);clip: rect(1px, 1px, 1px, 1px);height: 1px;margin: -1px;overflow: hidden;padding: 0;position: absolute;width: 1px;}#sk-container-id-2 div.sk-estimator {font-family: monospace;background-color: #f0f8ff;border: 1px dotted black;border-radius: 0.25em;box-sizing: border-box;margin-bottom: 0.5em;}#sk-container-id-2 div.sk-estimator:hover {background-color: #d4ebff;}#sk-container-id-2 div.sk-parallel-item::after {content: \"\";width: 100%;border-bottom: 1px solid gray;flex-grow: 1;}#sk-container-id-2 div.sk-label:hover label.sk-toggleable__label {background-color: #d4ebff;}#sk-container-id-2 div.sk-serial::before {content: \"\";position: absolute;border-left: 1px solid gray;box-sizing: border-box;top: 0;bottom: 0;left: 50%;z-index: 0;}#sk-container-id-2 div.sk-serial {display: flex;flex-direction: column;align-items: center;background-color: white;padding-right: 0.2em;padding-left: 0.2em;position: relative;}#sk-container-id-2 div.sk-item {position: relative;z-index: 1;}#sk-container-id-2 div.sk-parallel {display: flex;align-items: stretch;justify-content: center;background-color: white;position: relative;}#sk-container-id-2 div.sk-item::before, #sk-container-id-2 div.sk-parallel-item::before {content: \"\";position: absolute;border-left: 1px solid gray;box-sizing: border-box;top: 0;bottom: 0;left: 50%;z-index: -1;}#sk-container-id-2 div.sk-parallel-item {display: flex;flex-direction: column;z-index: 1;position: relative;background-color: white;}#sk-container-id-2 div.sk-parallel-item:first-child::after {align-self: flex-end;width: 50%;}#sk-container-id-2 div.sk-parallel-item:last-child::after {align-self: flex-start;width: 50%;}#sk-container-id-2 div.sk-parallel-item:only-child::after {width: 0;}#sk-container-id-2 div.sk-dashed-wrapped {border: 1px dashed gray;margin: 0 0.4em 0.5em 0.4em;box-sizing: border-box;padding-bottom: 0.4em;background-color: white;}#sk-container-id-2 div.sk-label label {font-family: monospace;font-weight: bold;display: inline-block;line-height: 1.2em;}#sk-container-id-2 div.sk-label-container {text-align: center;}#sk-container-id-2 div.sk-container {/* jupyter's `normalize.less` sets `[hidden] { display: none; }` but bootstrap.min.css set `[hidden] { display: none !important; }` so we also need the `!important` here to be able to override the default hidden behavior on the sphinx rendered scikit-learn.org. See: https://github.com/scikit-learn/scikit-learn/issues/21755 */display: inline-block !important;position: relative;}#sk-container-id-2 div.sk-text-repr-fallback {display: none;}</style><div id=\"sk-container-id-2\" class=\"sk-top-container\"><div class=\"sk-text-repr-fallback\"><pre>MultinomialNB()</pre><b>In a Jupyter environment, please rerun this cell to show the HTML representation or trust the notebook. <br />On GitHub, the HTML representation is unable to render, please try loading this page with nbviewer.org.</b></div><div class=\"sk-container\" hidden><div class=\"sk-item\"><div class=\"sk-estimator sk-toggleable\"><input class=\"sk-toggleable__control sk-hidden--visually\" id=\"sk-estimator-id-2\" type=\"checkbox\" checked><label for=\"sk-estimator-id-2\" class=\"sk-toggleable__label sk-toggleable__label-arrow\">MultinomialNB</label><div class=\"sk-toggleable__content\"><pre>MultinomialNB()</pre></div></div></div></div></div>"
            ]
          },
          "metadata": {},
          "execution_count": 24
        }
      ],
      "source": [
        "with open(Pkl_Filename, 'rb') as file:  \n",
        "    Pickled_LR_Model = pickle.load(file)\n",
        "\n",
        "Pickled_LR_Model"
      ]
    },
    {
      "cell_type": "code",
      "execution_count": null,
      "metadata": {
        "id": "toxi1JsYAVvC",
        "colab": {
          "base_uri": "https://localhost:8080/"
        },
        "outputId": "f6039f42-a205-4708-dd79-bf70a895c07c"
      },
      "outputs": [
        {
          "output_type": "execute_result",
          "data": {
            "text/plain": [
              "array(['Urgent'], dtype='<U10')"
            ]
          },
          "metadata": {},
          "execution_count": 27
        }
      ],
      "source": [
        "y_pred = Pickled_LR_Model.predict(messages)\n",
        "y_pred"
      ]
    },
    {
      "cell_type": "code",
      "execution_count": null,
      "metadata": {
        "id": "oH92j1ywAXkU"
      },
      "outputs": [],
      "source": [
        "cv = pickle.load(open(\"vectorizer.pkl\", 'rb'))"
      ]
    },
    {
      "cell_type": "code",
      "source": [
        "x!pip install skl2onnx\n",
        "!pip install onnxruntime"
      ],
      "metadata": {
        "id": "kVahuV6LbZFB",
        "colab": {
          "base_uri": "https://localhost:8080/",
          "height": 1000
        },
        "outputId": "07e3c3ca-81ef-446c-9ee9-21239b033e6d"
      },
      "execution_count": null,
      "outputs": [
        {
          "output_type": "stream",
          "name": "stdout",
          "text": [
            "Looking in indexes: https://pypi.org/simple, https://us-python.pkg.dev/colab-wheels/public/simple/\n",
            "Collecting skl2onnx\n",
            "  Downloading skl2onnx-1.13-py2.py3-none-any.whl (288 kB)\n",
            "\u001b[K     |████████████████████████████████| 288 kB 5.4 MB/s \n",
            "\u001b[?25hRequirement already satisfied: numpy>=1.15 in /usr/local/lib/python3.8/dist-packages (from skl2onnx) (1.21.6)\n",
            "Collecting onnx>=1.2.1\n",
            "  Downloading onnx-1.13.0-cp38-cp38-manylinux_2_17_x86_64.manylinux2014_x86_64.whl (13.5 MB)\n",
            "\u001b[K     |████████████████████████████████| 13.5 MB 49.2 MB/s \n",
            "\u001b[?25hRequirement already satisfied: scikit-learn>=0.19 in /usr/local/lib/python3.8/dist-packages (from skl2onnx) (1.0.2)\n",
            "Requirement already satisfied: protobuf in /usr/local/lib/python3.8/dist-packages (from skl2onnx) (3.19.6)\n",
            "Requirement already satisfied: scipy>=1.0 in /usr/local/lib/python3.8/dist-packages (from skl2onnx) (1.7.3)\n",
            "Collecting onnxconverter-common>=1.7.0\n",
            "  Downloading onnxconverter_common-1.13.0-py2.py3-none-any.whl (83 kB)\n",
            "\u001b[K     |████████████████████████████████| 83 kB 1.4 MB/s \n",
            "\u001b[?25hCollecting protobuf\n",
            "  Downloading protobuf-3.20.3-cp38-cp38-manylinux_2_5_x86_64.manylinux1_x86_64.whl (1.0 MB)\n",
            "\u001b[K     |████████████████████████████████| 1.0 MB 63.2 MB/s \n",
            "\u001b[?25hRequirement already satisfied: typing-extensions>=3.6.2.1 in /usr/local/lib/python3.8/dist-packages (from onnx>=1.2.1->skl2onnx) (4.4.0)\n",
            "Requirement already satisfied: packaging in /usr/local/lib/python3.8/dist-packages (from onnxconverter-common>=1.7.0->skl2onnx) (21.3)\n",
            "Requirement already satisfied: joblib>=0.11 in /usr/local/lib/python3.8/dist-packages (from scikit-learn>=0.19->skl2onnx) (1.2.0)\n",
            "Requirement already satisfied: threadpoolctl>=2.0.0 in /usr/local/lib/python3.8/dist-packages (from scikit-learn>=0.19->skl2onnx) (3.1.0)\n",
            "Requirement already satisfied: pyparsing!=3.0.5,>=2.0.2 in /usr/local/lib/python3.8/dist-packages (from packaging->onnxconverter-common>=1.7.0->skl2onnx) (3.0.9)\n",
            "Installing collected packages: protobuf, onnx, onnxconverter-common, skl2onnx\n",
            "  Attempting uninstall: protobuf\n",
            "    Found existing installation: protobuf 3.19.6\n",
            "    Uninstalling protobuf-3.19.6:\n",
            "      Successfully uninstalled protobuf-3.19.6\n",
            "\u001b[31mERROR: pip's dependency resolver does not currently take into account all the packages that are installed. This behaviour is the source of the following dependency conflicts.\n",
            "tensorflow 2.9.2 requires protobuf<3.20,>=3.9.2, but you have protobuf 3.20.3 which is incompatible.\n",
            "tensorboard 2.9.1 requires protobuf<3.20,>=3.9.2, but you have protobuf 3.20.3 which is incompatible.\u001b[0m\n",
            "Successfully installed onnx-1.13.0 onnxconverter-common-1.13.0 protobuf-3.20.3 skl2onnx-1.13\n"
          ]
        },
        {
          "output_type": "display_data",
          "data": {
            "application/vnd.colab-display-data+json": {
              "pip_warning": {
                "packages": [
                  "google"
                ]
              }
            }
          },
          "metadata": {}
        },
        {
          "output_type": "stream",
          "name": "stdout",
          "text": [
            "Looking in indexes: https://pypi.org/simple, https://us-python.pkg.dev/colab-wheels/public/simple/\n",
            "Collecting onnxruntime\n",
            "  Downloading onnxruntime-1.13.1-cp38-cp38-manylinux_2_27_x86_64.whl (4.5 MB)\n",
            "\u001b[K     |████████████████████████████████| 4.5 MB 5.0 MB/s \n",
            "\u001b[?25hCollecting coloredlogs\n",
            "  Downloading coloredlogs-15.0.1-py2.py3-none-any.whl (46 kB)\n",
            "\u001b[K     |████████████████████████████████| 46 kB 3.4 MB/s \n",
            "\u001b[?25hRequirement already satisfied: flatbuffers in /usr/local/lib/python3.8/dist-packages (from onnxruntime) (1.12)\n",
            "Requirement already satisfied: protobuf in /usr/local/lib/python3.8/dist-packages (from onnxruntime) (3.20.3)\n",
            "Requirement already satisfied: sympy in /usr/local/lib/python3.8/dist-packages (from onnxruntime) (1.7.1)\n",
            "Requirement already satisfied: packaging in /usr/local/lib/python3.8/dist-packages (from onnxruntime) (21.3)\n",
            "Requirement already satisfied: numpy>=1.21.6 in /usr/local/lib/python3.8/dist-packages (from onnxruntime) (1.21.6)\n",
            "Collecting humanfriendly>=9.1\n",
            "  Downloading humanfriendly-10.0-py2.py3-none-any.whl (86 kB)\n",
            "\u001b[K     |████████████████████████████████| 86 kB 3.0 MB/s \n",
            "\u001b[?25hRequirement already satisfied: pyparsing!=3.0.5,>=2.0.2 in /usr/local/lib/python3.8/dist-packages (from packaging->onnxruntime) (3.0.9)\n",
            "Requirement already satisfied: mpmath>=0.19 in /usr/local/lib/python3.8/dist-packages (from sympy->onnxruntime) (1.2.1)\n",
            "Installing collected packages: humanfriendly, coloredlogs, onnxruntime\n",
            "Successfully installed coloredlogs-15.0.1 humanfriendly-10.0 onnxruntime-1.13.1\n"
          ]
        }
      ]
    },
    {
      "cell_type": "code",
      "source": [],
      "metadata": {
        "id": "Q3Qs0PwHbdZg"
      },
      "execution_count": null,
      "outputs": []
    }
  ],
  "metadata": {
    "colab": {
      "provenance": [],
      "mount_file_id": "1DXRk8KHVVKpQmMqBNSh1lurOJf4SF_16",
      "authorship_tag": "ABX9TyMWMXPI4NENQHIJUCGuHxcV",
      "include_colab_link": true
    },
    "kernelspec": {
      "display_name": "Python 3",
      "name": "python3"
    }
  },
  "nbformat": 4,
  "nbformat_minor": 0
}